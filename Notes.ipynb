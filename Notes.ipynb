{
 "cells": [
  {
   "cell_type": "markdown",
   "metadata": {},
   "source": [
    "## Monopoly Board Game Analysis\n",
    "\n",
    "### Simple Simulation\n",
    "\n",
    "Checking the probability of landing on a position based on roll of double dice for a very big number of roll of dice. (~100000)"
   ]
  },
  {
   "cell_type": "code",
   "execution_count": 13,
   "metadata": {},
   "outputs": [],
   "source": [
    "from random import randint\n",
    "import numpy as np\n",
    "\n",
    "places = np.zeros(40, dtype=int)\n",
    "position = 0\n",
    "for i in range(1, 100000):\n",
    "    d1 = randint(1, 6)\n",
    "    d2 = randint(1, 6)\n",
    "    d = d1 + d2\n",
    "    position += d\n",
    "    if position == 30:  # Jail position\n",
    "        position = 10\n",
    "    elif position >= 40:\n",
    "        position -= 40  # Resetting once Go is reached\n",
    "    places[position] += 1\n"
   ]
  },
  {
   "cell_type": "code",
   "execution_count": 14,
   "metadata": {},
   "outputs": [
    {
     "data": {
      "text/plain": [
       "<BarContainer object of 40 artists>"
      ]
     },
     "execution_count": 14,
     "metadata": {},
     "output_type": "execute_result"
    },
    {
     "data": {
      "image/png": "[encoded data removed]",
      "text/plain": [
       "<Figure size 432x288 with 1 Axes>"
      ]
     },
     "metadata": {
      "needs_background": "light"
     },
     "output_type": "display_data"
    }
   ],
   "source": [
    "import matplotlib.pyplot as plt\n",
    "names = ['Go', 'Med', 'Chest', 'Balt', 'IT', 'Rail' ]\n",
    "y_pos = np.arange(40)\n",
    "plt.bar(y_pos,places)"
   ]
  },
  {
   "cell_type": "markdown",
   "metadata": {},
   "source": [
    "It looks like there is an almost even chance to land on any of the positions. But our experience wasn't such. We need to also look at the distribution of landing on each of these places wrt to time. We can only sustain in the game when we can withstand the beginning landings... (bleh, But you get the point?)\n",
    "\n",
    "So distribution wrt to time. Is that even a thing?"
   ]
  }
 ],
 "metadata": {
  "kernelspec": {
   "display_name": "Python 3",
   "language": "python",
   "name": "python3"
  },
  "language_info": {
   "codemirror_mode": {
    "name": "ipython",
    "version": 3
   },
   "file_extension": ".py",
   "mimetype": "text/x-python",
   "name": "python",
   "nbconvert_exporter": "python",
   "pygments_lexer": "ipython3",
   "version": "3.7.1"
  }
 },
 "nbformat": 4,
 "nbformat_minor": 2
}
